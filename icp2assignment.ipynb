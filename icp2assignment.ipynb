{
  "cells": [
    {
      "cell_type": "code",
      "source": [
        "#this is creating function for the full name\n",
        "def fullname(first_name, last_name):\n",
        "    return first_name + \" \" + last_name\n",
        "#we have give the input and display output\n",
        "first_name = input(\"Enter your first name: \")\n",
        "last_name = input(\"Enter your last name: \")\n",
        "full_name = fullname(first_name, last_name)\n",
        "print(\"Full Name:\", full_name)"
      ],
      "metadata": {
        "id": "lCc0CtNQIZ3Q",
        "outputId": "9fac6fcd-4d15-4ba6-d6a6-ae1637daa29b",
        "colab": {
          "base_uri": "https://localhost:8080/",
          "height": 0
        }
      },
      "execution_count": 1,
      "outputs": [
        {
          "output_type": "stream",
          "name": "stdout",
          "text": [
            "Enter your first name: sathwik\n",
            "Enter your last name: annabathula\n",
            "Full Name: sathwik annabathula\n"
          ]
        }
      ]
    },
    {
      "cell_type": "code",
      "source": [
        "def string_alternative(stra):#this function for string alternative\n",
        "    return stra[::2]\n",
        "#we have to to give input in main\n",
        "def main():\n",
        "    stra=input(\"Enter an input string: \")\n",
        "    alternate_chars = string_alternative(stra)\n",
        "    print(\"Alternate characters in Full Name:\", alternate_chars)\n",
        "if __name__ == \"__main__\":\n",
        "    main()\n"
      ],
      "metadata": {
        "id": "S4gy_W-lIo92",
        "outputId": "972c0ed7-134c-40e1-e197-a57d15bb14d1",
        "colab": {
          "base_uri": "https://localhost:8080/",
          "height": 0
        }
      },
      "execution_count": 2,
      "outputs": [
        {
          "output_type": "stream",
          "name": "stdout",
          "text": [
            "Enter an input string: good evening\n",
            "Alternate characters in Full Name: go vnn\n"
          ]
        }
      ]
    },
    {
      "cell_type": "code",
      "source": [
        "#here we can create a input file in write format\n",
        "with open('input.txt', 'w') as f:\n",
        "    f.write(\"Python Course\\n\")\n",
        "    f.write(\"Deep Learning Course\\n\")"
      ],
      "metadata": {
        "id": "xWx6QwslItV8"
      },
      "execution_count": 3,
      "outputs": []
    },
    {
      "cell_type": "code",
      "source": [
        "def count_words_in_file(input_file, output_file):\n",
        "    word_count = {} # Initialize word_count dictionary\n",
        "# Read input file\n",
        "    with open(input_file, 'r') as file:\n",
        "        lines = file.readlines()\n",
        "    # Process each line\n",
        "        for line in lines:\n",
        "            words = line.strip().split()\n",
        "            for word in words:\n",
        "                if word in word_count:\n",
        "                    word_count[word] += 1\n",
        "                else:\n",
        "                    word_count[word] = 1\n",
        "\n",
        "    # Write output to file\n",
        "    with open(output_file, 'w') as file:\n",
        "        # Write original lines\n",
        "        for line in lines:\n",
        "            file.write(line)\n",
        "\n",
        "        file.write(\"Word_Count:\\n\")\n",
        "        # Write word counts\n",
        "        for word, count in sorted(word_count.items()):\n",
        "            file.write(f\"{word}: {count}\\n\")\n",
        "\n",
        "    print(f\"Output has been written to {output_file}\")\n",
        "\n",
        "# Usage example\n",
        "input_file = \"input.txt\"\n",
        "output_file = \"output.txt\"\n",
        "count_words_in_file(input_file, output_file)"
      ],
      "metadata": {
        "id": "BAg_iwC-I1BZ",
        "outputId": "9b3cd45b-8812-4ef0-a611-a7f67bf19551",
        "colab": {
          "base_uri": "https://localhost:8080/",
          "height": 0
        }
      },
      "execution_count": 4,
      "outputs": [
        {
          "output_type": "stream",
          "name": "stdout",
          "text": [
            "Output has been written to output.txt\n"
          ]
        }
      ]
    },
    {
      "cell_type": "code",
      "source": [
        "#here we can read outptut in read format\n",
        "with open('output.txt', 'r') as f:\n",
        "    content = f.read()\n",
        "\n",
        "print(\"Content of input.txt:\")\n",
        "print(content)"
      ],
      "metadata": {
        "id": "ODI5HCjFI9qo",
        "outputId": "d443cac0-6945-4f62-f01f-4f1e9e5a9faf",
        "colab": {
          "base_uri": "https://localhost:8080/",
          "height": 0
        }
      },
      "execution_count": 5,
      "outputs": [
        {
          "output_type": "stream",
          "name": "stdout",
          "text": [
            "Content of input.txt:\n",
            "Python Course\n",
            "Deep Learning Course\n",
            "Word_Count:\n",
            "Course: 2\n",
            "Deep: 1\n",
            "Learning: 1\n",
            "Python: 1\n",
            "\n"
          ]
        }
      ]
    },
    {
      "cell_type": "code",
      "source": [
        "def convert_heights_nested(heights_inches):\n",
        "    heights_cm = []\n",
        "    for inch in heights_inches:\n",
        "        cm = inch * 2.54\n",
        "        heights_cm.append(round(cm, 2))\n",
        "    return heights_cm\n",
        "\n",
        "def main_nested():\n",
        "    num_customers = int(input(\"Enter the number of customers: \"))\n",
        "    heights_inches = []\n",
        "    for i in range(num_customers):\n",
        "        height_inch = float(input(f\"Enter height in inches for customer {i+1}: \"))\n",
        "        heights_inches.append(height_inch)\n",
        "    heights_cm = convert_heights_nested(heights_inches)\n",
        "    print(\"Heights in Inches:\", heights_inches)\n",
        "    print(\"Heights in Centimeters:\", heights_cm)\n",
        "\n",
        "if __name__ == \"__main__\":\n",
        "    main_nested()"
      ],
      "metadata": {
        "id": "PRPIG1OdJRXU",
        "outputId": "bfb83d82-5fe9-46a3-b24e-1f61a0a35b10",
        "colab": {
          "base_uri": "https://localhost:8080/",
          "height": 0
        }
      },
      "execution_count": 6,
      "outputs": [
        {
          "output_type": "stream",
          "name": "stdout",
          "text": [
            "Enter the number of customers: 4\n",
            "Enter height in inches for customer 1: 20\n",
            "Enter height in inches for customer 2: 50\n",
            "Enter height in inches for customer 3: 90\n",
            "Enter height in inches for customer 4: 50\n",
            "Heights in Inches: [20.0, 50.0, 90.0, 50.0]\n",
            "Heights in Centimeters: [50.8, 127.0, 228.6, 127.0]\n"
          ]
        }
      ]
    },
    {
      "cell_type": "code",
      "source": [
        "def convert_heights_comprehension(heights_inches):\n",
        "    return [round(inch * 2.54, 2) for inch in heights_inches]\n",
        "\n",
        "def main_comprehension():\n",
        "    num_customers = int(input(\"Enter the number of customers: \"))\n",
        "    heights_inches = [float(input(f\"Enter height in inches for customer {i+1}: \")) for i in range(num_customers)]\n",
        "    heights_cm = convert_heights_comprehension(heights_inches)\n",
        "    print(\"Heights in Inches:\", heights_inches)\n",
        "    print(\"Heights in Centi:\", heights_cm)\n",
        "\n",
        "if __name__ == \"__main__\":\n",
        "    main_comprehension()"
      ],
      "metadata": {
        "id": "8KVgbVYEJSxK",
        "outputId": "37439158-d05e-4b38-bf51-3d945dff013d",
        "colab": {
          "base_uri": "https://localhost:8080/",
          "height": 0
        }
      },
      "execution_count": 7,
      "outputs": [
        {
          "output_type": "stream",
          "name": "stdout",
          "text": [
            "Enter the number of customers: 3\n",
            "Enter height in inches for customer 1: 80\n",
            "Enter height in inches for customer 2: 30\n",
            "Enter height in inches for customer 3: 40\n",
            "Heights in Inches: [80.0, 30.0, 40.0]\n",
            "Heights in Centi: [203.2, 76.2, 101.6]\n"
          ]
        }
      ]
    }
  ],
  "metadata": {
    "colab": {
      "name": "Welcome To Colab",
      "provenance": []
    },
    "kernelspec": {
      "display_name": "Python 3",
      "name": "python3"
    }
  },
  "nbformat": 4,
  "nbformat_minor": 0
}